{
 "cells": [
  {
   "cell_type": "code",
   "execution_count": 1,
   "metadata": {},
   "outputs": [
    {
     "name": "stderr",
     "output_type": "stream",
     "text": [
      "/rds/general/user/cja119/home/anaconda3/envs/JupyterKernel/lib/python3.12/site-packages/tqdm/auto.py:21: TqdmWarning: IProgress not found. Please update jupyter and ipywidgets. See https://ipywidgets.readthedocs.io/en/stable/user_install.html\n",
      "  from .autonotebook import tqdm as notebook_tqdm\n"
     ]
    }
   ],
   "source": [
    "from MeteorologicalScripts.GetWeatherData import Meteorological\n",
    "from MeteorologicalScripts.RenewableEnergyModelling import RenewableEnergy\n",
    "import numpy as np"
   ]
  },
  {
   "cell_type": "code",
   "execution_count": 2,
   "metadata": {},
   "outputs": [
    {
     "name": "stdin",
     "output_type": "stream",
     "text": [
      "Enter your Earthdata Login username:  cameron.aldren19\n",
      "Enter your Earthdata password:  ························\n"
     ]
    },
    {
     "name": "stderr",
     "output_type": "stream",
     "text": [
      "QUEUEING TASKS | : 100%|██████████| 366/366 [00:00<00:00, 46743.86it/s]\n",
      "PROCESSING TASKS | : 100%|██████████| 366/366 [00:00<00:00, 21598.22it/s]\n",
      "COLLECTING RESULTS | : 100%|██████████| 366/366 [00:00<00:00, 729964.46it/s]\n"
     ]
    },
    {
     "ename": "ValueError",
     "evalue": "unrecognized engine h5netcdf must be one of: ['netcdf4', 'scipy', 'store']",
     "output_type": "error",
     "traceback": [
      "\u001b[0;31m---------------------------------------------------------------------------\u001b[0m",
      "\u001b[0;31mValueError\u001b[0m                                Traceback (most recent call last)",
      "Cell \u001b[0;32mIn[2], line 10\u001b[0m\n\u001b[1;32m      8\u001b[0m latitudes  \u001b[38;5;241m=\u001b[39m (\u001b[38;5;241m-\u001b[39m\u001b[38;5;241m57\u001b[39m,\u001b[38;5;241m-\u001b[39m\u001b[38;5;241m55.33\u001b[39m)\n\u001b[1;32m      9\u001b[0m longitudes \u001b[38;5;241m=\u001b[39m (\u001b[38;5;241m-\u001b[39m\u001b[38;5;241m71.33\u001b[39m,\u001b[38;5;241m-\u001b[39m\u001b[38;5;241m67\u001b[39m)\n\u001b[0;32m---> 10\u001b[0m weatherdata \u001b[38;5;241m=\u001b[39m \u001b[43mMeteorological\u001b[49m\u001b[43m(\u001b[49m\u001b[43mdate\u001b[49m\u001b[43m \u001b[49m\u001b[38;5;241;43m=\u001b[39;49m\u001b[43m \u001b[49m\u001b[43m(\u001b[49m\u001b[43mstart_date\u001b[49m\u001b[43m,\u001b[49m\u001b[43mend_date\u001b[49m\u001b[43m)\u001b[49m\u001b[43m,\u001b[49m\n\u001b[1;32m     11\u001b[0m \u001b[43m                                \u001b[49m\u001b[43mlocation\u001b[49m\u001b[38;5;241;43m=\u001b[39;49m\u001b[43m \u001b[49m\u001b[38;5;124;43m'\u001b[39;49m\u001b[38;5;124;43mChile\u001b[39;49m\u001b[38;5;124;43m'\u001b[39;49m\u001b[43m,\u001b[49m\u001b[43m \u001b[49m\n\u001b[1;32m     12\u001b[0m \u001b[43m                                \u001b[49m\u001b[43mwind\u001b[49m\u001b[43m \u001b[49m\u001b[38;5;241;43m=\u001b[39;49m\u001b[43m \u001b[49m\u001b[38;5;28;43;01mTrue\u001b[39;49;00m\u001b[43m,\u001b[49m\n\u001b[1;32m     13\u001b[0m \u001b[43m                                \u001b[49m\u001b[43msolar\u001b[49m\u001b[43m \u001b[49m\u001b[38;5;241;43m=\u001b[39;49m\u001b[43m \u001b[49m\u001b[38;5;28;43;01mTrue\u001b[39;49;00m\u001b[43m,\u001b[49m\u001b[43m \u001b[49m\n\u001b[1;32m     14\u001b[0m \u001b[43m                                \u001b[49m\u001b[43mlatitudes\u001b[49m\u001b[43m \u001b[49m\u001b[38;5;241;43m=\u001b[39;49m\u001b[43mlatitudes\u001b[49m\u001b[43m,\u001b[49m\u001b[43m \u001b[49m\n\u001b[1;32m     15\u001b[0m \u001b[43m                                \u001b[49m\u001b[43mlongitudes\u001b[49m\u001b[43m \u001b[49m\u001b[38;5;241;43m=\u001b[39;49m\u001b[43mlongitudes\u001b[49m\u001b[43m,\u001b[49m\n\u001b[1;32m     16\u001b[0m \u001b[43m                                \u001b[49m\u001b[43menvironment_login\u001b[49m\u001b[43m \u001b[49m\u001b[38;5;241;43m=\u001b[39;49m\u001b[43m \u001b[49m\u001b[38;5;28;43;01mFalse\u001b[39;49;00m\n\u001b[1;32m     17\u001b[0m \u001b[43m                                \u001b[49m\u001b[43m)\u001b[49m\n\u001b[1;32m     19\u001b[0m points \u001b[38;5;241m=\u001b[39m [(\u001b[38;5;28mmin\u001b[39m(latitudes),\u001b[38;5;28mmax\u001b[39m(longitudes)),(\u001b[38;5;28mmax\u001b[39m(latitudes),\u001b[38;5;28mmax\u001b[39m(longitudes)),(\u001b[38;5;28mmax\u001b[39m(latitudes),\u001b[38;5;28mmin\u001b[39m(longitudes)),(\u001b[38;5;28mmin\u001b[39m(latitudes),\u001b[38;5;28mmin\u001b[39m(longitudes))]\n\u001b[1;32m     21\u001b[0m renewableenergy \u001b[38;5;241m=\u001b[39m RenewableEnergy(weatherdata, points,\n\u001b[1;32m     22\u001b[0m                                  [(\u001b[38;5;241m0\u001b[39m,\u001b[38;5;241m0.0\u001b[39m),       \u001b[38;5;66;03m# These are points along the power curve. \u001b[39;00m\n\u001b[1;32m     23\u001b[0m                                             (\u001b[38;5;241m3\u001b[39m,\u001b[38;5;241m0.0\u001b[39m),       \u001b[38;5;66;03m# are used in the ouput curve.\u001b[39;00m\n\u001b[0;32m   (...)\u001b[0m\n\u001b[1;32m     34\u001b[0m                                             (\u001b[38;5;241m30\u001b[39m,\u001b[38;5;241m11.88\u001b[39m),\n\u001b[1;32m     35\u001b[0m                                             ])\n",
      "File \u001b[0;32m~/StochasticOperationsModel/WeatherModel/MeteorologicalScripts/GetWeatherData.py:53\u001b[0m, in \u001b[0;36mMeteorological.__init__\u001b[0;34m(self, date, location, wind, solar, interval, storage_location, n_samp, sample_type, latitudes, longitudes, environment_login)\u001b[0m\n\u001b[1;32m     49\u001b[0m \u001b[38;5;66;03m# Trying to load data from an existing model, saved as a .pickel file in the 'MetData' folder\u001b[39;00m\n\u001b[1;32m     50\u001b[0m \n\u001b[1;32m     51\u001b[0m \u001b[38;5;66;03m# Setting the time interval (in seconds) and accessing data from NASA's merra2 library. \u001b[39;00m\n\u001b[1;32m     52\u001b[0m \u001b[38;5;28mself\u001b[39m\u001b[38;5;241m.\u001b[39minterval   \u001b[38;5;241m=\u001b[39m interval               \n\u001b[0;32m---> 53\u001b[0m \u001b[38;5;28;43mself\u001b[39;49m\u001b[38;5;241;43m.\u001b[39;49m\u001b[43mget_data\u001b[49m\u001b[43m(\u001b[49m\u001b[43minterval\u001b[49m\u001b[43m,\u001b[49m\u001b[43m \u001b[49m\u001b[43mstorage_location\u001b[49m\u001b[38;5;241;43m=\u001b[39;49m\u001b[43mstorage_location\u001b[49m\u001b[43m,\u001b[49m\u001b[43menvironment_login\u001b[49m\u001b[38;5;241;43m=\u001b[39;49m\u001b[43menvironment_login\u001b[49m\u001b[43m)\u001b[49m\n\u001b[1;32m     55\u001b[0m \u001b[38;5;66;03m# Sampling the datasets to generate the requisite dataframes\u001b[39;00m\n\u001b[1;32m     56\u001b[0m \u001b[38;5;28;01mif\u001b[39;00m \u001b[38;5;28mself\u001b[39m\u001b[38;5;241m.\u001b[39msolar:\n",
      "File \u001b[0;32m~/StochasticOperationsModel/WeatherModel/MeteorologicalScripts/GetWeatherData.py:81\u001b[0m, in \u001b[0;36mMeteorological.get_data\u001b[0;34m(self, interval, storage_location, environment_login)\u001b[0m\n\u001b[1;32m     76\u001b[0m         solar_online \u001b[38;5;241m=\u001b[39m search_data(short_name\u001b[38;5;241m=\u001b[39m\u001b[38;5;124m\"\u001b[39m\u001b[38;5;124mM2T1NXRAD\u001b[39m\u001b[38;5;124m\"\u001b[39m,\n\u001b[1;32m     77\u001b[0m                             cloud_hosted\u001b[38;5;241m=\u001b[39m\u001b[38;5;28;01mFalse\u001b[39;00m,\n\u001b[1;32m     78\u001b[0m                             temporal \u001b[38;5;241m=\u001b[39m (\u001b[38;5;124mf\u001b[39m\u001b[38;5;124m\"\u001b[39m\u001b[38;5;132;01m{\u001b[39;00m(\u001b[38;5;28mself\u001b[39m\u001b[38;5;241m.\u001b[39mdate_lower)\u001b[38;5;132;01m}\u001b[39;00m\u001b[38;5;124m\"\u001b[39m[\u001b[38;5;241m0\u001b[39m:\u001b[38;5;241m10\u001b[39m],\u001b[38;5;124mf\u001b[39m\u001b[38;5;124m\"\u001b[39m\u001b[38;5;132;01m{\u001b[39;00m(\u001b[38;5;28mself\u001b[39m\u001b[38;5;241m.\u001b[39mdate_upper)\u001b[38;5;132;01m}\u001b[39;00m\u001b[38;5;124m\"\u001b[39m[\u001b[38;5;241m0\u001b[39m:\u001b[38;5;241m10\u001b[39m]))\n\u001b[1;32m     79\u001b[0m         solar_files  \u001b[38;5;241m=\u001b[39m download(solar_online,storage_location)\n\u001b[0;32m---> 81\u001b[0m         \u001b[38;5;28mself\u001b[39m\u001b[38;5;241m.\u001b[39msolar_data \u001b[38;5;241m=\u001b[39m  \u001b[43mopen_mfdataset\u001b[49m\u001b[43m(\u001b[49m\u001b[43msolar_files\u001b[49m\u001b[43m,\u001b[49m\u001b[43mengine\u001b[49m\u001b[38;5;241;43m=\u001b[39;49m\u001b[38;5;124;43m'\u001b[39;49m\u001b[38;5;124;43mh5netcdf\u001b[39;49m\u001b[38;5;124;43m'\u001b[39;49m\u001b[43m)\u001b[49m\n\u001b[1;32m     83\u001b[0m \u001b[38;5;66;03m# This grabs the wind speed data to use in the model. \u001b[39;00m\n\u001b[1;32m     84\u001b[0m wind_online \u001b[38;5;241m=\u001b[39m search_data(short_name\u001b[38;5;241m=\u001b[39m\u001b[38;5;124m\"\u001b[39m\u001b[38;5;124mM2T1NXSLV\u001b[39m\u001b[38;5;124m\"\u001b[39m,\n\u001b[1;32m     85\u001b[0m                 cloud_hosted\u001b[38;5;241m=\u001b[39m\u001b[38;5;28;01mFalse\u001b[39;00m,\n\u001b[1;32m     86\u001b[0m                 temporal \u001b[38;5;241m=\u001b[39m (\u001b[38;5;124mf\u001b[39m\u001b[38;5;124m\"\u001b[39m\u001b[38;5;132;01m{\u001b[39;00m(\u001b[38;5;28mself\u001b[39m\u001b[38;5;241m.\u001b[39mdate_lower)\u001b[38;5;132;01m}\u001b[39;00m\u001b[38;5;124m\"\u001b[39m[\u001b[38;5;241m0\u001b[39m:\u001b[38;5;241m10\u001b[39m],\u001b[38;5;124mf\u001b[39m\u001b[38;5;124m\"\u001b[39m\u001b[38;5;132;01m{\u001b[39;00m(\u001b[38;5;28mself\u001b[39m\u001b[38;5;241m.\u001b[39mdate_upper)\u001b[38;5;132;01m}\u001b[39;00m\u001b[38;5;124m\"\u001b[39m[\u001b[38;5;241m0\u001b[39m:\u001b[38;5;241m10\u001b[39m]))\n",
      "File \u001b[0;32m~/anaconda3/envs/JupyterKernel/lib/python3.12/site-packages/xarray/backends/api.py:972\u001b[0m, in \u001b[0;36mopen_mfdataset\u001b[0;34m(paths, chunks, concat_dim, compat, preprocess, engine, data_vars, coords, combine, parallel, join, attrs_file, combine_attrs, **kwargs)\u001b[0m\n\u001b[1;32m    969\u001b[0m     open_ \u001b[38;5;241m=\u001b[39m open_dataset\n\u001b[1;32m    970\u001b[0m     getattr_ \u001b[38;5;241m=\u001b[39m \u001b[38;5;28mgetattr\u001b[39m\n\u001b[0;32m--> 972\u001b[0m datasets \u001b[38;5;241m=\u001b[39m [\u001b[43mopen_\u001b[49m\u001b[43m(\u001b[49m\u001b[43mp\u001b[49m\u001b[43m,\u001b[49m\u001b[43m \u001b[49m\u001b[38;5;241;43m*\u001b[39;49m\u001b[38;5;241;43m*\u001b[39;49m\u001b[43mopen_kwargs\u001b[49m\u001b[43m)\u001b[49m \u001b[38;5;28;01mfor\u001b[39;00m p \u001b[38;5;129;01min\u001b[39;00m paths]\n\u001b[1;32m    973\u001b[0m closers \u001b[38;5;241m=\u001b[39m [getattr_(ds, \u001b[38;5;124m\"\u001b[39m\u001b[38;5;124m_close\u001b[39m\u001b[38;5;124m\"\u001b[39m) \u001b[38;5;28;01mfor\u001b[39;00m ds \u001b[38;5;129;01min\u001b[39;00m datasets]\n\u001b[1;32m    974\u001b[0m \u001b[38;5;28;01mif\u001b[39;00m preprocess \u001b[38;5;129;01mis\u001b[39;00m \u001b[38;5;129;01mnot\u001b[39;00m \u001b[38;5;28;01mNone\u001b[39;00m:\n",
      "File \u001b[0;32m~/anaconda3/envs/JupyterKernel/lib/python3.12/site-packages/xarray/backends/api.py:517\u001b[0m, in \u001b[0;36mopen_dataset\u001b[0;34m(filename_or_obj, engine, chunks, cache, decode_cf, mask_and_scale, decode_times, decode_timedelta, use_cftime, concat_characters, decode_coords, drop_variables, inline_array, backend_kwargs, **kwargs)\u001b[0m\n\u001b[1;32m    514\u001b[0m \u001b[38;5;28;01mif\u001b[39;00m engine \u001b[38;5;129;01mis\u001b[39;00m \u001b[38;5;28;01mNone\u001b[39;00m:\n\u001b[1;32m    515\u001b[0m     engine \u001b[38;5;241m=\u001b[39m plugins\u001b[38;5;241m.\u001b[39mguess_engine(filename_or_obj)\n\u001b[0;32m--> 517\u001b[0m backend \u001b[38;5;241m=\u001b[39m \u001b[43mplugins\u001b[49m\u001b[38;5;241;43m.\u001b[39;49m\u001b[43mget_backend\u001b[49m\u001b[43m(\u001b[49m\u001b[43mengine\u001b[49m\u001b[43m)\u001b[49m\n\u001b[1;32m    519\u001b[0m decoders \u001b[38;5;241m=\u001b[39m _resolve_decoders_kwargs(\n\u001b[1;32m    520\u001b[0m     decode_cf,\n\u001b[1;32m    521\u001b[0m     open_backend_dataset_parameters\u001b[38;5;241m=\u001b[39mbackend\u001b[38;5;241m.\u001b[39mopen_dataset_parameters,\n\u001b[0;32m   (...)\u001b[0m\n\u001b[1;32m    527\u001b[0m     decode_coords\u001b[38;5;241m=\u001b[39mdecode_coords,\n\u001b[1;32m    528\u001b[0m )\n\u001b[1;32m    530\u001b[0m overwrite_encoded_chunks \u001b[38;5;241m=\u001b[39m kwargs\u001b[38;5;241m.\u001b[39mpop(\u001b[38;5;124m\"\u001b[39m\u001b[38;5;124moverwrite_encoded_chunks\u001b[39m\u001b[38;5;124m\"\u001b[39m, \u001b[38;5;28;01mNone\u001b[39;00m)\n",
      "File \u001b[0;32m~/anaconda3/envs/JupyterKernel/lib/python3.12/site-packages/xarray/backends/plugins.py:163\u001b[0m, in \u001b[0;36mget_backend\u001b[0;34m(engine)\u001b[0m\n\u001b[1;32m    161\u001b[0m     engines \u001b[38;5;241m=\u001b[39m list_engines()\n\u001b[1;32m    162\u001b[0m     \u001b[38;5;28;01mif\u001b[39;00m engine \u001b[38;5;129;01mnot\u001b[39;00m \u001b[38;5;129;01min\u001b[39;00m engines:\n\u001b[0;32m--> 163\u001b[0m         \u001b[38;5;28;01mraise\u001b[39;00m \u001b[38;5;167;01mValueError\u001b[39;00m(\n\u001b[1;32m    164\u001b[0m             \u001b[38;5;124mf\u001b[39m\u001b[38;5;124m\"\u001b[39m\u001b[38;5;124munrecognized engine \u001b[39m\u001b[38;5;132;01m{\u001b[39;00mengine\u001b[38;5;132;01m}\u001b[39;00m\u001b[38;5;124m must be one of: \u001b[39m\u001b[38;5;132;01m{\u001b[39;00m\u001b[38;5;28mlist\u001b[39m(engines)\u001b[38;5;132;01m}\u001b[39;00m\u001b[38;5;124m\"\u001b[39m\n\u001b[1;32m    165\u001b[0m         )\n\u001b[1;32m    166\u001b[0m     backend \u001b[38;5;241m=\u001b[39m engines[engine]\n\u001b[1;32m    167\u001b[0m \u001b[38;5;28;01melif\u001b[39;00m \u001b[38;5;28misinstance\u001b[39m(engine, \u001b[38;5;28mtype\u001b[39m) \u001b[38;5;129;01mand\u001b[39;00m \u001b[38;5;28missubclass\u001b[39m(engine, BackendEntrypoint):\n",
      "\u001b[0;31mValueError\u001b[0m: unrecognized engine h5netcdf must be one of: ['netcdf4', 'scipy', 'store']"
     ]
    }
   ],
   "source": [
    "start_date = np.datetime64('2023-01-01','ns')\n",
    "end_date = np.datetime64('2024-01-01','ns')\n",
    "location = 'Coastal Chile'\n",
    "solar = True\n",
    "#latitudes = (-24,-23)\n",
    "#longitudes = (-68,-67)\n",
    "points = [(-57,-68),(-56,-67),(-55.33,-70.33),(-55.33,-71.33)]\n",
    "latitudes  = (-57,-55.33)\n",
    "longitudes = (-71.33,-67)\n",
    "weatherdata = Meteorological(date = (start_date,end_date),\n",
    "                                location= 'Chile', \n",
    "                                wind = True,\n",
    "                                solar = True, \n",
    "                                latitudes =latitudes, \n",
    "                                longitudes =longitudes,\n",
    "                                environment_login = False\n",
    "                                )\n",
    "\n",
    "points = [(min(latitudes),max(longitudes)),(max(latitudes),max(longitudes)),(max(latitudes),min(longitudes)),(min(latitudes),min(longitudes))]\n",
    "\n",
    "renewableenergy = RenewableEnergy(weatherdata, points,\n",
    "                                 [(0,0.0),       # These are points along the power curve. \n",
    "                                            (3,0.0),       # are used in the ouput curve.\n",
    "                                            (4,0.648),     # Wind speeds are in [m/s].\n",
    "                                            (5,1.4832),\n",
    "                                            (6,2.736),\n",
    "                                            (7,4.4676),  \n",
    "                                            (8,6.7104),\n",
    "                                            (9,9.3168),\n",
    "                                            (10,11.2392),\n",
    "                                            (11,11.8008),\n",
    "                                            (12,11.8728),\n",
    "                                            (13,11.88),\n",
    "                                            (30,11.88),\n",
    "                                            ])\n"
   ]
  },
  {
   "cell_type": "code",
   "execution_count": null,
   "metadata": {},
   "outputs": [],
   "source": []
  }
 ],
 "metadata": {
  "kernelspec": {
   "display_name": "Python JupyterKernel",
   "language": "python",
   "name": "jupyterkernel"
  },
  "language_info": {
   "codemirror_mode": {
    "name": "ipython",
    "version": 3
   },
   "file_extension": ".py",
   "mimetype": "text/x-python",
   "name": "python",
   "nbconvert_exporter": "python",
   "pygments_lexer": "ipython3",
   "version": "3.12.4"
  }
 },
 "nbformat": 4,
 "nbformat_minor": 2
}
