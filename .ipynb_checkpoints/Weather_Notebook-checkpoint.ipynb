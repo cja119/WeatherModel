{
 "cells": [
  {
   "cell_type": "code",
   "execution_count": 1,
   "metadata": {},
   "outputs": [
    {
     "name": "stderr",
     "output_type": "stream",
     "text": [
      "/rds/general/user/cja119/home/anaconda3/envs/JupyterKernel/lib/python3.12/site-packages/tqdm/auto.py:21: TqdmWarning: IProgress not found. Please update jupyter and ipywidgets. See https://ipywidgets.readthedocs.io/en/stable/user_install.html\n",
      "  from .autonotebook import tqdm as notebook_tqdm\n"
     ]
    }
   ],
   "source": [
    "from MeteorologicalScripts.GetWeatherData import Meteorological\n",
    "from MeteorologicalScripts.RenewableEnergyModelling import RenewableEnergy\n",
    "import numpy as np"
   ]
  },
  {
   "cell_type": "code",
   "execution_count": 2,
   "metadata": {},
   "outputs": [
    {
     "name": "stdin",
     "output_type": "stream",
     "text": [
      "Enter your Earthdata Login username:  cameron.aldren19\n",
      "Enter your Earthdata password:  ························\n"
     ]
    },
    {
     "name": "stderr",
     "output_type": "stream",
     "text": [
      "QUEUEING TASKS | : 100%|██████████| 366/366 [00:00<00:00, 44639.72it/s]\n",
      "PROCESSING TASKS | : 100%|██████████| 366/366 [00:00<00:00, 24925.96it/s]\n",
      "COLLECTING RESULTS | : 100%|██████████| 366/366 [00:00<00:00, 736266.31it/s]\n",
      "QUEUEING TASKS | : 100%|██████████| 366/366 [00:00<00:00, 43381.99it/s]\n",
      "PROCESSING TASKS | : 100%|██████████| 366/366 [00:00<00:00, 14981.41it/s]\n",
      "COLLECTING RESULTS | : 100%|██████████| 366/366 [00:00<00:00, 762600.73it/s]\n"
     ]
    },
    {
     "name": "stdout",
     "output_type": "stream",
     "text": [
      "[[False]\n",
      " [ True]\n",
      " [False]]\n",
      "[[False]\n",
      " [ True]\n",
      " [False]]\n"
     ]
    }
   ],
   "source": [
    "start_date = np.datetime64('2023-01-01','ns')\n",
    "end_date = np.datetime64('2024-01-01','ns')\n",
    "location = 'Coastal Chile'\n",
    "solar = True\n",
    "latitudes = (-24,-23)\n",
    "longitudes = (-68,-67)\n",
    "#points = [(-57,-68),(-56,-67),(-55.33,-70.33),(-55.33,-71.33)]\n",
    "#latitudes  = (-57,-55.33)\n",
    "#longitudes = (-71.33,-67)\n",
    "weatherdata = Meteorological(date = (start_date,end_date),\n",
    "                                location= 'Chile', \n",
    "                                wind = False,\n",
    "                                solar = True, \n",
    "                                latitudes =latitudes, \n",
    "                                longitudes =longitudes,\n",
    "                                environment_login = False\n",
    "                                )\n",
    "\n",
    "points = [(min(latitudes),max(longitudes)),(max(latitudes),max(longitudes)),(max(latitudes),min(longitudes)),(min(latitudes),min(longitudes))]\n",
    "\n",
    "renewableenergy = RenewableEnergy(weatherdata,\n",
    "                                 [(0,0.0),       # These are points along the power curve. \n",
    "                                            (3,0.0),       # are used in the ouput curve.\n",
    "                                            (4,0.648),     # Wind speeds are in [m/s].\n",
    "                                            (5,1.4832),\n",
    "                                            (6,2.736),\n",
    "                                            (7,4.4676),  \n",
    "                                            (8,6.7104),\n",
    "                                            (9,9.3168),\n",
    "                                            (10,11.2392),\n",
    "                                            (11,11.8008),\n",
    "                                            (12,11.8728),\n",
    "                                            (13,11.88),\n",
    "                                            (30,11.88),\n",
    "                                            ])\n"
   ]
  },
  {
   "cell_type": "code",
   "execution_count": 3,
   "metadata": {},
   "outputs": [],
   "source": [
    "renewableenergy.export_power(weatherdata,name='CoastalChile', dates=False)"
   ]
  },
  {
   "cell_type": "code",
   "execution_count": 6,
   "metadata": {},
   "outputs": [
    {
     "data": {
      "image/png": "[encoded data removed]",
      "text/plain": [
       "<Figure size 640x480 with 1 Axes>"
      ]
     },
     "metadata": {},
     "output_type": "display_data"
    }
   ],
   "source": [
    "import matplotlib.pyplot as plt\n",
    "plt.plot(renewableenergy.solar_power_output)\n",
    "plt.show()"
   ]
  },
  {
   "cell_type": "code",
   "execution_count": null,
   "metadata": {},
   "outputs": [],
   "source": []
  }
 ],
 "metadata": {
  "kernelspec": {
   "display_name": "Python JupyterKernel",
   "language": "python",
   "name": "jupyterkernel"
  },
  "language_info": {
   "codemirror_mode": {
    "name": "ipython",
    "version": 3
   },
   "file_extension": ".py",
   "mimetype": "text/x-python",
   "name": "python",
   "nbconvert_exporter": "python",
   "pygments_lexer": "ipython3",
   "version": "3.12.4"
  }
 },
 "nbformat": 4,
 "nbformat_minor": 2
}
