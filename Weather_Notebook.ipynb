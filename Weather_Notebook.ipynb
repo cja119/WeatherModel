{
 "cells": [
  {
   "cell_type": "code",
   "execution_count": 1,
   "metadata": {},
   "outputs": [
    {
     "name": "stderr",
     "output_type": "stream",
     "text": [
      "/rds/general/user/cja119/home/anaconda3/envs/JupyterKernel/lib/python3.12/site-packages/tqdm/auto.py:21: TqdmWarning: IProgress not found. Please update jupyter and ipywidgets. See https://ipywidgets.readthedocs.io/en/stable/user_install.html\n",
      "  from .autonotebook import tqdm as notebook_tqdm\n"
     ]
    }
   ],
   "source": [
    "from MeteorologicalScripts.GetWeatherData import Meteorological\n",
    "from MeteorologicalScripts.RenewableEnergyModelling import RenewableEnergy\n",
    "import numpy as np\n",
    "import pandas as pd\n",
    "import os"
   ]
  },
  {
   "cell_type": "code",
   "execution_count": 2,
   "metadata": {},
   "outputs": [
    {
     "name": "stderr",
     "output_type": "stream",
     "text": [
      "QUEUEING TASKS | : 100%|██████████| 366/366 [00:00<00:00, 47519.43it/s]\n",
      "PROCESSING TASKS | : 100%|██████████| 366/366 [00:00<00:00, 24356.08it/s]\n",
      "COLLECTING RESULTS | : 100%|██████████| 366/366 [00:00<00:00, 830240.81it/s]\n",
      "QUEUEING TASKS | : 100%|██████████| 366/366 [00:00<00:00, 49759.01it/s]\n",
      "PROCESSING TASKS | : 100%|██████████| 366/366 [00:00<00:00, 21841.60it/s]\n",
      "COLLECTING RESULTS | : 100%|██████████| 366/366 [00:00<00:00, 734153.64it/s]\n"
     ]
    }
   ],
   "source": [
    "\n",
    "\n",
    "start_date = np.datetime64('2023-01-01','ns')\n",
    "end_date = np.datetime64('2024-01-01','ns')\n",
    "location = 'Coastal Chile'\n",
    "solar = True\n",
    "latitudes = (-24,-23)\n",
    "longitudes = (-68,-67)\n",
    "\n",
    "weatherdata = Meteorological(date = (start_date,end_date),\n",
    "                                location= 'Chile', \n",
    "                                wind = False,\n",
    "                                solar = True, \n",
    "                                latitudes =latitudes, \n",
    "                                longitudes =longitudes,\n",
    "                                )\n",
    "\n",
    "points = [(min(latitudes),max(longitudes)),(max(latitudes),max(longitudes)),(max(latitudes),min(longitudes)),(min(latitudes),min(longitudes))]\n",
    "\n",
    "renewableenergy = RenewableEnergy(weatherdata, points)\n"
   ]
  },
  {
   "cell_type": "code",
   "execution_count": 3,
   "metadata": {},
   "outputs": [
    {
     "data": {
      "image/png": "[encoded data removed]",
      "text/plain": [
       "<Figure size 640x480 with 1 Axes>"
      ]
     },
     "metadata": {},
     "output_type": "display_data"
    }
   ],
   "source": [
    "import matplotlib.pyplot as plt\n",
    "plt.plot(renewableenergy.solar_power_output)\n",
    "\n",
    "plt.figsize=(8,4)\n",
    "plt.show()"
   ]
  },
  {
   "cell_type": "code",
   "execution_count": 4,
   "metadata": {},
   "outputs": [
    {
     "data": {
      "text/plain": [
       "array(0.4427454)"
      ]
     },
     "execution_count": 4,
     "metadata": {},
     "output_type": "execute_result"
    }
   ],
   "source": [
    "renewableenergy.solar_capacity_factor"
   ]
  },
  {
   "cell_type": "code",
   "execution_count": 4,
   "metadata": {},
   "outputs": [],
   "source": [
    "clearness_index = solar_farm.filtered['SWGDN'].mean(dim=['lat', 'lon'],keep_attrs=True) / solar_farm.filtered['SWTDN'].mean(dim=['lat', 'lon'],keep_attrs=True)"
   ]
  },
  {
   "cell_type": "code",
   "execution_count": 5,
   "metadata": {},
   "outputs": [],
   "source": [
    "diffuse_fraction = 1 / (1 + np.exp(-5.0033 + 8.6025* clearness_index))"
   ]
  },
  {
   "cell_type": "code",
   "execution_count": 7,
   "metadata": {},
   "outputs": [
    {
     "name": "stderr",
     "output_type": "stream",
     "text": [
      "/rds/general/user/cja119/home/anaconda3/envs/JupyterKernel/lib/python3.12/site-packages/dask/core.py:127: RuntimeWarning: divide by zero encountered in divide\n",
      "  return func(*(_execute_task(a, cache) for a in args))\n",
      "/rds/general/user/cja119/home/anaconda3/envs/JupyterKernel/lib/python3.12/site-packages/dask/core.py:127: RuntimeWarning: invalid value encountered in divide\n",
      "  return func(*(_execute_task(a, cache) for a in args))\n"
     ]
    }
   ],
   "source": [
    "values = diffuse_fraction.to_dataframe(name='Diffuse Fraction')"
   ]
  },
  {
   "cell_type": "code",
   "execution_count": 8,
   "metadata": {},
   "outputs": [
    {
     "data": {
      "text/html": [
       "<div>\n",
       "<style scoped>\n",
       "    .dataframe tbody tr th:only-of-type {\n",
       "        vertical-align: middle;\n",
       "    }\n",
       "\n",
       "    .dataframe tbody tr th {\n",
       "        vertical-align: top;\n",
       "    }\n",
       "\n",
       "    .dataframe thead th {\n",
       "        text-align: right;\n",
       "    }\n",
       "</style>\n",
       "<table border=\"1\" class=\"dataframe\">\n",
       "  <thead>\n",
       "    <tr style=\"text-align: right;\">\n",
       "      <th></th>\n",
       "      <th>Diffuse Fraction</th>\n",
       "    </tr>\n",
       "    <tr>\n",
       "      <th>time</th>\n",
       "      <th></th>\n",
       "    </tr>\n",
       "  </thead>\n",
       "  <tbody>\n",
       "    <tr>\n",
       "      <th>2023-01-01 00:30:00</th>\n",
       "      <td>NaN</td>\n",
       "    </tr>\n",
       "    <tr>\n",
       "      <th>2023-01-01 01:30:00</th>\n",
       "      <td>NaN</td>\n",
       "    </tr>\n",
       "    <tr>\n",
       "      <th>2023-01-01 02:30:00</th>\n",
       "      <td>NaN</td>\n",
       "    </tr>\n",
       "    <tr>\n",
       "      <th>2023-01-01 03:30:00</th>\n",
       "      <td>NaN</td>\n",
       "    </tr>\n",
       "    <tr>\n",
       "      <th>2023-01-01 04:30:00</th>\n",
       "      <td>NaN</td>\n",
       "    </tr>\n",
       "    <tr>\n",
       "      <th>...</th>\n",
       "      <td>...</td>\n",
       "    </tr>\n",
       "    <tr>\n",
       "      <th>2024-01-01 18:30:00</th>\n",
       "      <td>0.076974</td>\n",
       "    </tr>\n",
       "    <tr>\n",
       "      <th>2024-01-01 19:30:00</th>\n",
       "      <td>0.084744</td>\n",
       "    </tr>\n",
       "    <tr>\n",
       "      <th>2024-01-01 20:30:00</th>\n",
       "      <td>0.099368</td>\n",
       "    </tr>\n",
       "    <tr>\n",
       "      <th>2024-01-01 21:30:00</th>\n",
       "      <td>0.132914</td>\n",
       "    </tr>\n",
       "    <tr>\n",
       "      <th>2024-01-01 22:30:00</th>\n",
       "      <td>0.253073</td>\n",
       "    </tr>\n",
       "  </tbody>\n",
       "</table>\n",
       "<p>8783 rows × 1 columns</p>\n",
       "</div>"
      ],
      "text/plain": [
       "                     Diffuse Fraction\n",
       "time                                 \n",
       "2023-01-01 00:30:00               NaN\n",
       "2023-01-01 01:30:00               NaN\n",
       "2023-01-01 02:30:00               NaN\n",
       "2023-01-01 03:30:00               NaN\n",
       "2023-01-01 04:30:00               NaN\n",
       "...                               ...\n",
       "2024-01-01 18:30:00          0.076974\n",
       "2024-01-01 19:30:00          0.084744\n",
       "2024-01-01 20:30:00          0.099368\n",
       "2024-01-01 21:30:00          0.132914\n",
       "2024-01-01 22:30:00          0.253073\n",
       "\n",
       "[8783 rows x 1 columns]"
      ]
     },
     "execution_count": 8,
     "metadata": {},
     "output_type": "execute_result"
    }
   ],
   "source": [
    "values"
   ]
  },
  {
   "cell_type": "code",
   "execution_count": null,
   "metadata": {},
   "outputs": [],
   "source": []
  }
 ],
 "metadata": {
  "kernelspec": {
   "display_name": "Python JupyterKernel",
   "language": "python",
   "name": "jupyterkernel"
  },
  "language_info": {
   "codemirror_mode": {
    "name": "ipython",
    "version": 3
   },
   "file_extension": ".py",
   "mimetype": "text/x-python",
   "name": "python",
   "nbconvert_exporter": "python",
   "pygments_lexer": "ipython3",
   "version": "3.12.4"
  }
 },
 "nbformat": 4,
 "nbformat_minor": 2
}
